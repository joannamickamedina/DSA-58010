{
  "nbformat": 4,
  "nbformat_minor": 0,
  "metadata": {
    "colab": {
      "provenance": [],
      "authorship_tag": "ABX9TyPrHwczwGP636kW7DSM2z8S",
      "include_colab_link": true
    },
    "kernelspec": {
      "name": "python3",
      "display_name": "Python 3"
    },
    "language_info": {
      "name": "python"
    }
  },
  "cells": [
    {
      "cell_type": "markdown",
      "metadata": {
        "id": "view-in-github",
        "colab_type": "text"
      },
      "source": [
        "<a href=\"https://colab.research.google.com/github/joannamickamedina/DSA-58010/blob/main/Prelim_Exam.ipynb\" target=\"_parent\"><img src=\"https://colab.research.google.com/assets/colab-badge.svg\" alt=\"Open In Colab\"/></a>"
      ]
    },
    {
      "cell_type": "code",
      "execution_count": 11,
      "metadata": {
        "colab": {
          "base_uri": "https://localhost:8080/"
        },
        "id": "TJgLYOn5JsNU",
        "outputId": "350c23ae-a901-4f4e-a0e6-c0cb31eb6af2"
      },
      "outputs": [
        {
          "output_type": "stream",
          "name": "stdout",
          "text": [
            "A = [1, 2, 3, 4, 5, 6, 7, 8, 9, 10]\n",
            "Even number:  2\n",
            "Even number:  4\n",
            "Even number:  6\n",
            "Even number:  8\n",
            "Even number:  10\n",
            "Even numbers in the list:  5\n"
          ]
        }
      ],
      "source": [
        "A = [1,2,3,4,5,6,7,8,9,10]\n",
        "print(\"A =\", A)\n",
        "\n",
        "evenA = 0\n",
        "\n",
        "for num in A:\n",
        "  if num % 2 == 0:\n",
        "        print(\"Even number: \", num)\n",
        "        evenA += 1\n",
        "print(\"Even numbers in the list: \", evenA)"
      ]
    }
  ]
}