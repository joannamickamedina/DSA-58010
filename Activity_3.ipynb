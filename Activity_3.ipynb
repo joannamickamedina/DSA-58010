{
  "nbformat": 4,
  "nbformat_minor": 0,
  "metadata": {
    "colab": {
      "provenance": [],
      "authorship_tag": "ABX9TyN9QJ8DKQBnEnh5+u7Lyz5h",
      "include_colab_link": true
    },
    "kernelspec": {
      "name": "python3",
      "display_name": "Python 3"
    },
    "language_info": {
      "name": "python"
    }
  },
  "cells": [
    {
      "cell_type": "markdown",
      "metadata": {
        "id": "view-in-github",
        "colab_type": "text"
      },
      "source": [
        "<a href=\"https://colab.research.google.com/github/joannamickamedina/DSA-58010/blob/main/Activity_3.ipynb\" target=\"_parent\"><img src=\"https://colab.research.google.com/assets/colab-badge.svg\" alt=\"Open In Colab\"/></a>"
      ]
    },
    {
      "cell_type": "code",
      "execution_count": 7,
      "metadata": {
        "colab": {
          "base_uri": "https://localhost:8080/"
        },
        "id": "mserKVkJjWLo",
        "outputId": "69ba38cf-ca36-4798-f4e8-7d21e4494a98"
      },
      "outputs": [
        {
          "output_type": "stream",
          "name": "stdout",
          "text": [
            "Pushed Element: 1\n",
            "Pushed Element: 2\n",
            "Pushed Element: 3\n",
            "Pushed Element: 4\n",
            "Pushed Element: 5\n",
            "The elements in the stack are:['1', '2', '3', '4', '5']\n",
            "The number of elements in the stack is:  5\n",
            "The popped element is: 5\n",
            "The popped element is: 4\n",
            "The popped element is: 3\n",
            "Stack after the elements are popped:['1', '2']\n",
            "The number of elements in the stack after popped is:  2\n"
          ]
        }
      ],
      "source": [
        "# Stack implementation in python #1\n",
        "# Creating a stack\n",
        "def create_stack():\n",
        "    stack = []\n",
        "    return stack\n",
        "  \n",
        "# Creating an empty stack\n",
        "def is_empty(stack):\n",
        "    return len(stack) == 0\n",
        "  \n",
        "# Adding items into the stack\n",
        "def push(stack, item):\n",
        "    stack.append(item)\n",
        "    print(\"Pushed Element: \" + item)\n",
        "  \n",
        "# Removing an element from the stack\n",
        "def pop(stack):\n",
        "    if (is_empty(stack)):\n",
        "        return \"The stack is empty\"\n",
        "    return stack.pop()\n",
        "\n",
        "#Determining the length of the stack #4\n",
        "def size():\n",
        "    return len(stack)\n",
        "#2\n",
        "stack = create_stack()\n",
        "push(stack, str(1))\n",
        "push(stack, str(2))\n",
        "push(stack, str(3))\n",
        "push(stack, str(4))\n",
        "push(stack, str(5))\n",
        "\n",
        "print(\"The elements in the stack are:\"+ str(stack))\n",
        "#4\n",
        "print(\"The number of elements in the stack is: \", size())\n",
        "#3\n",
        "print('The popped element is:',stack.pop())\n",
        "print('The popped element is:',stack.pop())\n",
        "print('The popped element is:',stack.pop())\n",
        "print(\"Stack after the elements are popped:\"+ str(stack))\n",
        "#4\n",
        "print(\"The number of elements in the stack after popped is: \", size())"
      ]
    }
  ]
}