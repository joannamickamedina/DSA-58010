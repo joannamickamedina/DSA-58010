{
  "nbformat": 4,
  "nbformat_minor": 0,
  "metadata": {
    "colab": {
      "provenance": [],
      "authorship_tag": "ABX9TyND/dOSfU8jENMFw6QUyBUk",
      "include_colab_link": true
    },
    "kernelspec": {
      "name": "python3",
      "display_name": "Python 3"
    },
    "language_info": {
      "name": "python"
    }
  },
  "cells": [
    {
      "cell_type": "markdown",
      "metadata": {
        "id": "view-in-github",
        "colab_type": "text"
      },
      "source": [
        "<a href=\"https://colab.research.google.com/github/joannamickamedina/DSA-58010/blob/main/DSA_Laboratory_1.ipynb\" target=\"_parent\"><img src=\"https://colab.research.google.com/assets/colab-badge.svg\" alt=\"Open In Colab\"/></a>"
      ]
    },
    {
      "cell_type": "code",
      "execution_count": 21,
      "metadata": {
        "colab": {
          "base_uri": "https://localhost:8080/"
        },
        "id": "aZTtmx2BLMQr",
        "outputId": "ed6b9675-822d-4e08-e7da-5735358e95e4"
      },
      "outputs": [
        {
          "output_type": "stream",
          "name": "stdout",
          "text": [
            "Rectangle\n",
            "4\n",
            "31.5\n",
            "Square\n",
            "4\n",
            "16\n"
          ]
        }
      ],
      "source": [
        "class Polygons:\n",
        "  def __init__(self, name, sides, area):\n",
        "    self._name = name\n",
        "    self._sides = sides\n",
        "    self._area = area\n",
        "\n",
        "  def get_name(self):\n",
        "    return self._name\n",
        "\n",
        "  def get_sides(self):\n",
        "    return self._sides\n",
        "\n",
        "  def get_area(self):\n",
        "    return self._area\n",
        "\n",
        "  def set_name(self, name):\n",
        "    self._name = name\n",
        "\n",
        "  def set_sides(self, sides):\n",
        "    self._sides = sides\n",
        "\n",
        "  def set_area(self, area):\n",
        "    self._area = area\n",
        "\n",
        "p = Polygons('Rectangle', 4, 31.5)\n",
        "print(p.get_name())\n",
        "print(p.get_sides())\n",
        "print(p.get_area())\n",
        "\n",
        "p.set_name('Square')\n",
        "p.set_sides(4)\n",
        "p.set_area(16)\n",
        "print(p.get_name())\n",
        "print(p.get_sides())\n",
        "print(p.get_area())"
      ]
    }
  ]
}