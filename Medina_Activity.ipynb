{
  "nbformat": 4,
  "nbformat_minor": 0,
  "metadata": {
    "colab": {
      "provenance": [],
      "authorship_tag": "ABX9TyMslKGQvPXGV+kzpQoevXIw",
      "include_colab_link": true
    },
    "kernelspec": {
      "name": "python3",
      "display_name": "Python 3"
    },
    "language_info": {
      "name": "python"
    }
  },
  "cells": [
    {
      "cell_type": "markdown",
      "metadata": {
        "id": "view-in-github",
        "colab_type": "text"
      },
      "source": [
        "<a href=\"https://colab.research.google.com/github/joannamickamedina/DSA-58010/blob/main/Medina_Activity.ipynb\" target=\"_parent\"><img src=\"https://colab.research.google.com/assets/colab-badge.svg\" alt=\"Open In Colab\"/></a>"
      ]
    },
    {
      "cell_type": "markdown",
      "source": [
        "Problem 1 - Write a Python program to create an array of 10 integers and display the array items. Access individual elements through indexes and compute for the sum."
      ],
      "metadata": {
        "id": "Jg3fbeytMC0F"
      }
    },
    {
      "cell_type": "code",
      "execution_count": 16,
      "metadata": {
        "colab": {
          "base_uri": "https://localhost:8080/"
        },
        "id": "Aiu_Z54cIuV9",
        "outputId": "d65775a7-9459-45a4-fd29-41abf1970acb"
      },
      "outputs": [
        {
          "output_type": "stream",
          "name": "stdout",
          "text": [
            "[1, 2, 3, 4, 5, 6, 7, 8, 9, 10]\n",
            "The sum of 10 integers in an array is 55\n"
          ]
        }
      ],
      "source": [
        "number = [1,2,3,4,5,6,7,8,9,10] \n",
        "sum=0\n",
        "for i in number:\n",
        "  sum += i\n",
        "print(number)\n",
        "print('The sum of 10 integers in an array is', sum)\n"
      ]
    },
    {
      "cell_type": "markdown",
      "source": [
        "Problem 2 - Write a Python program to append a new item to the end of the array. Original array: numbers = [1, 2, 3, 4, 5, 6, 7, 8, 9, 10]"
      ],
      "metadata": {
        "id": "uhTf7rSnOaw6"
      }
    },
    {
      "cell_type": "code",
      "source": [
        "number = [1,2,3,4,5,6,7,8,9,10]\n",
        "number.append(11)\n",
        "print(number)"
      ],
      "metadata": {
        "colab": {
          "base_uri": "https://localhost:8080/"
        },
        "id": "EWgtQQSIOcKM",
        "outputId": "72c3cdaa-93b9-4a78-c168-cd2bb8b24412"
      },
      "execution_count": 22,
      "outputs": [
        {
          "output_type": "stream",
          "name": "stdout",
          "text": [
            "[1, 2, 3, 4, 5, 6, 7, 8, 9, 10, 11]\n"
          ]
        }
      ]
    },
    {
      "cell_type": "markdown",
      "source": [
        "Problem 3 - Write a Python program to insert a new item before the second element in an existing array. Original array: numbers = [1, 2, 3, 4, 5, 6, 7, 8, 9, 10]"
      ],
      "metadata": {
        "id": "yh5F-hhhO13W"
      }
    },
    {
      "cell_type": "code",
      "source": [
        "number = [1,2,3,4,5,6,7,8,9,10]\n",
        "number.insert(1,88)\n",
        "print(number)"
      ],
      "metadata": {
        "colab": {
          "base_uri": "https://localhost:8080/"
        },
        "id": "iz00ZTR8PS-f",
        "outputId": "f2f4adac-afae-4098-acd3-c1e7cd121827"
      },
      "execution_count": 23,
      "outputs": [
        {
          "output_type": "stream",
          "name": "stdout",
          "text": [
            "[1, 88, 2, 3, 4, 5, 6, 7, 8, 9, 10]\n"
          ]
        }
      ]
    },
    {
      "cell_type": "markdown",
      "source": [
        "Problem 4 - Write a Python program to reverse the order of the items in the array.Original array: numbers = [5, 4, 3, 2, 1]"
      ],
      "metadata": {
        "id": "CvseoYoGPYgc"
      }
    },
    {
      "cell_type": "code",
      "source": [
        "number = [5,4,3,2,1]\n",
        "number.reverse()\n",
        "print(number)"
      ],
      "metadata": {
        "colab": {
          "base_uri": "https://localhost:8080/"
        },
        "id": "xtJYlLDqPZtT",
        "outputId": "c9c47011-42af-4b25-84b5-a78b3ed95527"
      },
      "execution_count": 24,
      "outputs": [
        {
          "output_type": "stream",
          "name": "stdout",
          "text": [
            "[1, 2, 3, 4, 5]\n"
          ]
        }
      ]
    },
    {
      "cell_type": "markdown",
      "source": [
        "Problem 5 - Write a Python program to get the length of the array. Original array: numbers = [5, 4, 3, 2, 1]"
      ],
      "metadata": {
        "id": "xJ3LZ3LTPpjQ"
      }
    },
    {
      "cell_type": "code",
      "source": [
        "number = [5,4,3,2,1]\n",
        "i=len(number)\n",
        "print(i)"
      ],
      "metadata": {
        "colab": {
          "base_uri": "https://localhost:8080/"
        },
        "id": "n9M8ZN6ZPqkf",
        "outputId": "febe7be8-57de-4ddb-a536-8851f9f9cbb4"
      },
      "execution_count": 25,
      "outputs": [
        {
          "output_type": "stream",
          "name": "stdout",
          "text": [
            "5\n"
          ]
        }
      ]
    }
  ]
}