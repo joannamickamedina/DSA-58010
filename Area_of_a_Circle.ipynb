{
  "nbformat": 4,
  "nbformat_minor": 0,
  "metadata": {
    "colab": {
      "name": "Area of a Circle.ipynb",
      "provenance": [],
      "authorship_tag": "ABX9TyMwHSvQPKq6icoavpCHpKqI",
      "include_colab_link": true
    },
    "kernelspec": {
      "name": "python3",
      "display_name": "Python 3"
    },
    "language_info": {
      "name": "python"
    }
  },
  "cells": [
    {
      "cell_type": "markdown",
      "metadata": {
        "id": "view-in-github",
        "colab_type": "text"
      },
      "source": [
        "<a href=\"https://colab.research.google.com/github/joannamickamedina/DSA-58010/blob/main/Area_of_a_Circle.ipynb\" target=\"_parent\"><img src=\"https://colab.research.google.com/assets/colab-badge.svg\" alt=\"Open In Colab\"/></a>"
      ]
    },
    {
      "cell_type": "markdown",
      "source": [
        "Using Radius"
      ],
      "metadata": {
        "id": "9UB6IyayZo3t"
      }
    },
    {
      "cell_type": "code",
      "execution_count": 15,
      "metadata": {
        "id": "HFpfwhkgTc4_",
        "colab": {
          "base_uri": "https://localhost:8080/"
        },
        "outputId": "40bfdcb3-06cf-44d6-9d64-17c32e4a1c7a"
      },
      "outputs": [
        {
          "output_type": "stream",
          "name": "stdout",
          "text": [
            "Please enter the radius of a circle:4\n",
            "The area of a circle is 50.24\n"
          ]
        }
      ],
      "source": [
        "class Circle():          \n",
        "  def __init__(self,radius,PI):\n",
        "    self.radius=float(input('Please enter the radius of a circle:'))\n",
        "    self.PI=3.14                            \n",
        "\n",
        "  def Area(self):\n",
        "    return self.PI*self.radius*self.radius\n",
        "\n",
        "  def display(self):\n",
        "    print(\"The area of a circle is\",self.Area())\n",
        "\n",
        "sphere= Circle(input,3.14)\n",
        "sphere.display()"
      ]
    },
    {
      "cell_type": "markdown",
      "source": [
        "Using Diameter"
      ],
      "metadata": {
        "id": "LoeJ4vjoZmC3"
      }
    },
    {
      "cell_type": "code",
      "source": [
        "class Circle():          \n",
        "  def __init__(self,diameter,PI):\n",
        "    self.diameter=float(input('Please enter the diameter of a circle:'))\n",
        "    self.PI=3.14                            \n",
        "\n",
        "  def Area(self):\n",
        "    return self.PI*self.diameter*self.diameter/4\n",
        "\n",
        "  def display(self):\n",
        "    print(\"The area of a circle is\",self.Area())\n",
        "\n",
        "sphere= Circle(input,3.14)\n",
        "sphere.display()"
      ],
      "metadata": {
        "colab": {
          "base_uri": "https://localhost:8080/"
        },
        "id": "UVbVDCPYXWmi",
        "outputId": "f9a7a5c6-5213-4492-e7b0-95618549e5b1"
      },
      "execution_count": 16,
      "outputs": [
        {
          "output_type": "stream",
          "name": "stdout",
          "text": [
            "Please enter the diameter of a circle:8\n",
            "The area of a circle is 50.24\n"
          ]
        }
      ]
    }
  ]
}