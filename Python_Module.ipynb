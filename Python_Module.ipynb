{
  "nbformat": 4,
  "nbformat_minor": 0,
  "metadata": {
    "colab": {
      "provenance": [],
      "authorship_tag": "ABX9TyNn7IyaMyCsB4TgEg0DqA1R",
      "include_colab_link": true
    },
    "kernelspec": {
      "name": "python3",
      "display_name": "Python 3"
    },
    "language_info": {
      "name": "python"
    }
  },
  "cells": [
    {
      "cell_type": "markdown",
      "metadata": {
        "id": "view-in-github",
        "colab_type": "text"
      },
      "source": [
        "<a href=\"https://colab.research.google.com/github/joannamickamedina/DSA-58010/blob/main/Python_Module.ipynb\" target=\"_parent\"><img src=\"https://colab.research.google.com/assets/colab-badge.svg\" alt=\"Open In Colab\"/></a>"
      ]
    },
    {
      "cell_type": "markdown",
      "source": [
        "Example 1"
      ],
      "metadata": {
        "id": "78S34zzh5s2o"
      }
    },
    {
      "cell_type": "code",
      "execution_count": 4,
      "metadata": {
        "colab": {
          "base_uri": "https://localhost:8080/"
        },
        "id": "bOym_S6-4zWS",
        "outputId": "d219a8c5-8ac9-4c2a-a864-6d9aa740c24a"
      },
      "outputs": [
        {
          "output_type": "stream",
          "name": "stdout",
          "text": [
            "i\n",
            "f\n"
          ]
        }
      ],
      "source": [
        "import array\n",
        "array.typecodes #get all typecodes\n",
        "A= array.array('i', [1,2,3,4,5,6]) #initialize the elements of array A\n",
        "B= array.array('f', [1.5,2.5,3.5,4.5,5.5,6.6]) #initialize the elements of array B\n",
        "print(A.typecode) #getting the typecode of A\n",
        "print(B.typecode) #getting the typecode of B"
      ]
    },
    {
      "cell_type": "markdown",
      "source": [
        "Example 2 Create/convert the elements of array A to float/decimal number"
      ],
      "metadata": {
        "id": "kkhKaInA8B-F"
      }
    },
    {
      "cell_type": "code",
      "source": [
        "import array\n",
        "array.typecodes\n",
        "A= array.array('f', [1,2,3,4,5,6]) #initializing elements of array A\n",
        "print(A)"
      ],
      "metadata": {
        "colab": {
          "base_uri": "https://localhost:8080/"
        },
        "id": "OwzxDzSB8DJq",
        "outputId": "dc32b73a-73f0-400e-a2cc-6de1b57103c9"
      },
      "execution_count": 7,
      "outputs": [
        {
          "output_type": "stream",
          "name": "stdout",
          "text": [
            "array('f', [1.0, 2.0, 3.0, 4.0, 5.0, 6.0])\n"
          ]
        }
      ]
    },
    {
      "cell_type": "markdown",
      "source": [
        "Example 3 "
      ],
      "metadata": {
        "id": "DhP-fjch_9Tt"
      }
    },
    {
      "cell_type": "code",
      "source": [
        "import array\n",
        "array.typecodes\n",
        "a= array.array('i', [4,5,6,7]) #initializing array a\n",
        "b= array.array('i', [1,2,3])   #initializing array b\n",
        "a.insert(1,2) #insert element:2 to index:1\n",
        "print(a)\n",
        "a.insert(-1,0) #insert element:0 to index:-1\n",
        "print(a)\n",
        "a.insert(6,8)  #insert element:8 to index 6 which is out of range\n",
        "print(a)       #append the last element of the array\n",
        "b[0] = 5\n",
        "print(b) \n",
        "b[-1] = 9\n",
        "print(b)\n",
        "b[0] = 5\n",
        "b[1] = 4\n",
        "b[2] = 3\n",
        "print(b)"
      ],
      "metadata": {
        "colab": {
          "base_uri": "https://localhost:8080/"
        },
        "id": "K56wOGGk_ACx",
        "outputId": "066dff2c-104d-4db6-b5ec-3e57e2147415"
      },
      "execution_count": 21,
      "outputs": [
        {
          "output_type": "stream",
          "name": "stdout",
          "text": [
            "array('i', [4, 2, 5, 6, 7])\n",
            "array('i', [4, 2, 5, 6, 0, 7])\n",
            "array('i', [4, 2, 5, 6, 0, 7, 8])\n",
            "array('i', [5, 2, 3])\n",
            "array('i', [5, 2, 9])\n",
            "array('i', [5, 4, 3])\n"
          ]
        }
      ]
    },
    {
      "cell_type": "markdown",
      "source": [
        "# Linked Lists\n"
      ],
      "metadata": {
        "id": "47NaqmthE9ce"
      }
    },
    {
      "cell_type": "markdown",
      "source": [
        "Example 3"
      ],
      "metadata": {
        "id": "qKjapY6ZGF-z"
      }
    },
    {
      "cell_type": "code",
      "source": [
        "#Node class\n",
        "class Node:\n",
        "\n",
        "  #Function to initialize the node object\n",
        "  def __init__(self,data):\n",
        "    self.data = data    #Assign data\n",
        "    self.next = None    #Initialize as null\n",
        "                    #next as null\n",
        "\n",
        "#function that creates Linked list object\n",
        "#Linked List class\n",
        "class LinkedList:\n",
        "\n",
        "  #Function to initialize the Linked\n",
        "  #List object\n",
        "  def __init__(self):\n",
        "    self.head = None  #Initialize head as null\n",
        "  \n",
        "  def printList(self):\n",
        "     temp = self.head\n",
        "     while (temp != None):\n",
        "       print(temp.data)\n",
        "       temp = temp.next\n",
        "\n",
        "list = LinkedList()    #empty list\n",
        "list.head = Node(1)\n",
        "second = Node(2)\n",
        "third = Node(3)\n",
        "fourth = Node(4)\n",
        "\n",
        "list.head.next = second;\n",
        "second.next = third;\n",
        "third.next = fourth;\n",
        "list.printList()"
      ],
      "metadata": {
        "colab": {
          "base_uri": "https://localhost:8080/"
        },
        "id": "xcwZoFJgFEMI",
        "outputId": "99d25c01-ddf0-41f0-c246-f6d6c56be40b"
      },
      "execution_count": 59,
      "outputs": [
        {
          "output_type": "stream",
          "name": "stdout",
          "text": [
            "1\n",
            "2\n",
            "3\n",
            "4\n"
          ]
        }
      ]
    },
    {
      "cell_type": "code",
      "source": [
        "class Node:\n",
        "   def __init__(self, dataval=None):\n",
        "      self.dataval = dataval\n",
        "      self.nextval = None\n",
        "\n",
        "class SLinkedList:\n",
        "   def __init__(self):\n",
        "      self.headval = None\n",
        "\n",
        "   def listprint(self):\n",
        "      printval = self.headval\n",
        "      while printval is not None:\n",
        "         print (printval.dataval)\n",
        "         printval = printval.nextval\n",
        "\n",
        "list = SLinkedList()\n",
        "list.headval = Node(1)\n",
        "e2 = Node(2)\n",
        "e3 = Node(3)\n",
        "\n",
        "# Link first Node to second node\n",
        "list.headval.nextval = e2\n",
        "\n",
        "# Link second Node to third node\n",
        "e2.nextval = e3\n",
        "\n",
        "list.listprint()"
      ],
      "metadata": {
        "colab": {
          "base_uri": "https://localhost:8080/"
        },
        "id": "vOqcURJfLGeZ",
        "outputId": "71fa723b-f6c6-4fff-e193-f949c1ea1664"
      },
      "execution_count": 46,
      "outputs": [
        {
          "output_type": "stream",
          "name": "stdout",
          "text": [
            "1\n",
            "2\n",
            "3\n"
          ]
        }
      ]
    }
  ]
}