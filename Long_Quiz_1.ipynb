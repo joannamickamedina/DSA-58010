{
  "nbformat": 4,
  "nbformat_minor": 0,
  "metadata": {
    "colab": {
      "provenance": [],
      "authorship_tag": "ABX9TyMm0znpExPXwSIn89dxiBBN",
      "include_colab_link": true
    },
    "kernelspec": {
      "name": "python3",
      "display_name": "Python 3"
    },
    "language_info": {
      "name": "python"
    }
  },
  "cells": [
    {
      "cell_type": "markdown",
      "metadata": {
        "id": "view-in-github",
        "colab_type": "text"
      },
      "source": [
        "<a href=\"https://colab.research.google.com/github/joannamickamedina/DSA-58010/blob/main/Long_Quiz_1.ipynb\" target=\"_parent\"><img src=\"https://colab.research.google.com/assets/colab-badge.svg\" alt=\"Open In Colab\"/></a>"
      ]
    },
    {
      "cell_type": "code",
      "execution_count": 1,
      "metadata": {
        "id": "BNhMBSGc__O1",
        "colab": {
          "base_uri": "https://localhost:8080/"
        },
        "outputId": "e8654715-9002-482f-ed01-84360d9a6968"
      },
      "outputs": [
        {
          "output_type": "stream",
          "name": "stdout",
          "text": [
            "Name: Joanna Micka E. Medina\n",
            "A\n",
            "N\n",
            "I\n",
            "D\n",
            "E\n",
            "M\n",
            " \n",
            "E.\n",
            " \n",
            "A\n",
            "K\n",
            "C\n",
            "I\n",
            "M\n",
            " \n",
            "A\n",
            "N\n",
            "N\n",
            "A\n",
            "O\n",
            "J\n"
          ]
        }
      ],
      "source": [
        "print(\"Name: Joanna Micka E. Medina\")\n",
        "name = []\n",
        "name.append(\"J\")\n",
        "name.append(\"O\")\n",
        "name.append(\"A\")\n",
        "name.append(\"N\")\n",
        "name.append(\"N\")\n",
        "name.append(\"A\")\n",
        "name.append(\" \")\n",
        "name.append(\"M\")\n",
        "name.append(\"I\")\n",
        "name.append(\"C\")\n",
        "name.append(\"K\")\n",
        "name.append(\"A\")\n",
        "name.append(\" \")\n",
        "name.append(\"E.\")\n",
        "name.append(\" \")\n",
        "name.append(\"M\")\n",
        "name.append(\"E\")\n",
        "name.append(\"D\")\n",
        "name.append(\"I\")\n",
        "name.append(\"N\")\n",
        "name.append(\"A\")\n",
        "\n",
        "\n",
        "\n",
        "name.reverse()\n",
        "\n",
        "for x in name:\n",
        "  print(x)"
      ]
    }
  ]
}