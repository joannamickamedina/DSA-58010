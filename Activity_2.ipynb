{
  "nbformat": 4,
  "nbformat_minor": 0,
  "metadata": {
    "colab": {
      "provenance": [],
      "authorship_tag": "ABX9TyOd3YS+3a1MN8EDFuFZOpOv",
      "include_colab_link": true
    },
    "kernelspec": {
      "name": "python3",
      "display_name": "Python 3"
    },
    "language_info": {
      "name": "python"
    }
  },
  "cells": [
    {
      "cell_type": "markdown",
      "metadata": {
        "id": "view-in-github",
        "colab_type": "text"
      },
      "source": [
        "<a href=\"https://colab.research.google.com/github/joannamickamedina/DSA-58010/blob/main/Activity_2.ipynb\" target=\"_parent\"><img src=\"https://colab.research.google.com/assets/colab-badge.svg\" alt=\"Open In Colab\"/></a>"
      ]
    },
    {
      "cell_type": "code",
      "execution_count": 33,
      "metadata": {
        "colab": {
          "base_uri": "https://localhost:8080/"
        },
        "id": "ycDoqfUx67Y6",
        "outputId": "6b489d2c-26fd-4a3e-bd12-c100320a1ea8"
      },
      "outputs": [
        {
          "output_type": "stream",
          "name": "stdout",
          "text": [
            "head\n",
            "2\n",
            "3\n",
            "5\n",
            "7\n",
            "11\n",
            "13\n",
            "17\n",
            "19\n",
            "tail\n"
          ]
        }
      ],
      "source": [
        "class Node:\n",
        "\n",
        "  def __init__(self,data):\n",
        "    self.data = data    \n",
        "    self.next = None    \n",
        "                    \n",
        "class LinkedList:\n",
        "\n",
        "  def __init__(self):\n",
        "    self.head = None \n",
        "    self.tail = None \n",
        "  \n",
        "  def printList(self):\n",
        "     temp = self.head\n",
        "     while (temp != None):\n",
        "       print(temp.data)\n",
        "       temp = temp.next\n",
        "\n",
        "\n",
        "list = LinkedList()    \n",
        "list.head = Node(2)\n",
        "second = Node(3)\n",
        "third = Node(5)\n",
        "fourth = Node(7)\n",
        "fifth = Node(11)\n",
        "sixth = Node(13)\n",
        "seventh = Node(17)\n",
        "list.tail = Node(19)\n",
        "\n",
        "print('head')\n",
        "list.head.next = second;\n",
        "second.next = third;\n",
        "third.next = fourth;\n",
        "fourth.next = fifth;\n",
        "fifth.next = sixth;\n",
        "sixth.next = seventh;\n",
        "seventh.next = list.tail;\n",
        "list.printList()\n",
        "print('tail')"
      ]
    },
    {
      "cell_type": "code",
      "source": [
        "class Node:\n",
        "    def __init__(self, data=None):\n",
        "        self.data = data\n",
        "        self.next = None\n",
        "\n",
        "\n",
        "class LinkedList:\n",
        "    def __init__(self):\n",
        "        self.head = None\n",
        "        self.tail = None\n",
        "\n",
        "    def insert(self, data):\n",
        "        new_node = Node(data)\n",
        "        if not self.head:\n",
        "            self.head = new_node\n",
        "        elif self.tail:\n",
        "            self.tail.next = new_node\n",
        "            self.tail = new_node\n",
        "        else:\n",
        "            self.head.next = new_node\n",
        "            self.tail = new_node\n",
        "\n",
        "\n",
        "list = LinkedList()\n",
        "list.insert(2)\n",
        "list.insert(3)\n",
        "list.insert(5)\n",
        "list.insert(7)\n",
        "list.insert(11)\n",
        "list.insert(13)\n",
        "list.insert(17)\n",
        "list.insert(19)\n",
        "\n",
        "node = list.head\n",
        "print('(head)', end=' -> ')\n",
        "while node:\n",
        "    print(node.data, end=' -> ')\n",
        "    node = node.next\n",
        "print('(tail)')"
      ],
      "metadata": {
        "colab": {
          "base_uri": "https://localhost:8080/"
        },
        "id": "flrmKc6SDv1b",
        "outputId": "17174407-6217-4d23-f66d-944beba9c0b8"
      },
      "execution_count": 34,
      "outputs": [
        {
          "output_type": "stream",
          "name": "stdout",
          "text": [
            "(head) -> 2 -> 3 -> 5 -> 7 -> 11 -> 13 -> 17 -> 19 -> (tail)\n"
          ]
        }
      ]
    }
  ]
}