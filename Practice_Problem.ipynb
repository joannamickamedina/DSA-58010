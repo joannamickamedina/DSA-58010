{
  "nbformat": 4,
  "nbformat_minor": 0,
  "metadata": {
    "colab": {
      "name": "Practice Problem.ipynb",
      "provenance": [],
      "authorship_tag": "ABX9TyM0VZzfmicWhWpB47LdFL9z",
      "include_colab_link": true
    },
    "kernelspec": {
      "name": "python3",
      "display_name": "Python 3"
    },
    "language_info": {
      "name": "python"
    }
  },
  "cells": [
    {
      "cell_type": "markdown",
      "metadata": {
        "id": "view-in-github",
        "colab_type": "text"
      },
      "source": [
        "<a href=\"https://colab.research.google.com/github/joannamickamedina/DSA-58010/blob/main/Practice_Problem.ipynb\" target=\"_parent\"><img src=\"https://colab.research.google.com/assets/colab-badge.svg\" alt=\"Open In Colab\"/></a>"
      ]
    },
    {
      "cell_type": "code",
      "source": [
        "testScores =(26,49,98,87,62,75)\n",
        "print(\"Test Scores = \", testScores)\n",
        "\n",
        "evenSum = 0\n",
        "\n",
        "for num in testScores:\n",
        "  if num % 2 == 0:\n",
        "        print(\"Even number: \", num)\n",
        "        evenSum = evenSum + num\n",
        "        print(\"The sum of even numbers in test scores: \", evenSum)\n",
        "\n",
        "print(\"The sum of all even numbers in test scores: \", evenSum)\n",
        "  \n",
        "     \n"
      ],
      "metadata": {
        "colab": {
          "base_uri": "https://localhost:8080/"
        },
        "id": "rvWjnbmvC7mq",
        "outputId": "7cf3e4b0-3b6d-49cc-c6a4-afe21d0f3a7f"
      },
      "execution_count": 98,
      "outputs": [
        {
          "output_type": "stream",
          "name": "stdout",
          "text": [
            "Test Scores =  (26, 49, 98, 87, 62, 75)\n",
            "Even number:  26\n",
            "The sum of even numbers in test scores:  26\n",
            "Even number:  98\n",
            "The sum of even numbers in test scores:  124\n",
            "Even number:  62\n",
            "The sum of even numbers in test scores:  186\n",
            "The sum of all even numbers in test scores:  186\n"
          ]
        }
      ]
    }
  ]
}